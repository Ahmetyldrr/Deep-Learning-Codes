{
  "nbformat": 4,
  "nbformat_minor": 0,
  "metadata": {
    "colab": {
      "provenance": [],
      "authorship_tag": "ABX9TyNmKQfYQcHSdfCKW7rfzj8t",
      "include_colab_link": true
    },
    "kernelspec": {
      "name": "python3",
      "display_name": "Python 3"
    },
    "language_info": {
      "name": "python"
    }
  },
  "cells": [
    {
      "cell_type": "markdown",
      "metadata": {
        "id": "view-in-github",
        "colab_type": "text"
      },
      "source": [
        "<a href=\"https://colab.research.google.com/github/Ahmetyldrr/Deep-Learning-Codes/blob/main/1_start_with_tensors.ipynb\" target=\"_parent\"><img src=\"https://colab.research.google.com/assets/colab-badge.svg\" alt=\"Open In Colab\"/></a>"
      ]
    },
    {
      "cell_type": "markdown",
      "source": [
        "Kaynak : https://learning.oreilly.com/library/view/deep-learning-with/9781617295263/Text/03.xhtml"
      ],
      "metadata": {
        "id": "-Juy7MFFw5th"
      }
    },
    {
      "cell_type": "markdown",
      "source": [
        "# Tensorler"
      ],
      "metadata": {
        "id": "OBd5DT2TxMGl"
      }
    },
    {
      "cell_type": "code",
      "execution_count": null,
      "metadata": {
        "id": "MTVv6eRrwMU6"
      },
      "outputs": [],
      "source": [
        "import torch"
      ]
    },
    {
      "cell_type": "code",
      "source": [
        "torch.ones(4)"
      ],
      "metadata": {
        "colab": {
          "base_uri": "https://localhost:8080/"
        },
        "id": "DuQtRTts2ZX9",
        "outputId": "86fe614b-25be-4086-aa58-fed6228f5e48"
      },
      "execution_count": null,
      "outputs": [
        {
          "output_type": "execute_result",
          "data": {
            "text/plain": [
              "tensor([1., 1., 1., 1.])"
            ]
          },
          "metadata": {},
          "execution_count": 3
        }
      ]
    },
    {
      "cell_type": "code",
      "source": [
        "a = torch.ones(10)\n",
        "a"
      ],
      "metadata": {
        "colab": {
          "base_uri": "https://localhost:8080/"
        },
        "id": "Poh_SziX2dHn",
        "outputId": "410f4288-cb4a-49df-90d0-b892a0a12e5e"
      },
      "execution_count": null,
      "outputs": [
        {
          "output_type": "execute_result",
          "data": {
            "text/plain": [
              "tensor([1., 1., 1., 1., 1., 1., 1., 1., 1., 1.])"
            ]
          },
          "metadata": {},
          "execution_count": 4
        }
      ]
    },
    {
      "cell_type": "code",
      "source": [
        "a[1]"
      ],
      "metadata": {
        "colab": {
          "base_uri": "https://localhost:8080/"
        },
        "id": "vF-iafh62mgc",
        "outputId": "f9a1cbfe-4424-4fbb-e8df-f9c5ed09d378"
      },
      "execution_count": null,
      "outputs": [
        {
          "output_type": "execute_result",
          "data": {
            "text/plain": [
              "tensor(1.)"
            ]
          },
          "metadata": {},
          "execution_count": 5
        }
      ]
    },
    {
      "cell_type": "code",
      "source": [
        "points = torch.zeros(3)\n",
        "points"
      ],
      "metadata": {
        "colab": {
          "base_uri": "https://localhost:8080/"
        },
        "id": "HRE4KseN2tXe",
        "outputId": "6e822fb0-6764-477b-b266-cc90cbde08e3"
      },
      "execution_count": null,
      "outputs": [
        {
          "output_type": "execute_result",
          "data": {
            "text/plain": [
              "tensor([0., 0., 0.])"
            ]
          },
          "metadata": {},
          "execution_count": 7
        }
      ]
    },
    {
      "cell_type": "code",
      "source": [
        "points[0]=0\n",
        "points[1]=1\n",
        "points[2]=2\n",
        "points"
      ],
      "metadata": {
        "colab": {
          "base_uri": "https://localhost:8080/"
        },
        "id": "ifZS5pH72zA8",
        "outputId": "72cc6ab9-0bd6-4f3c-9d05-5ffb8e08b65c"
      },
      "execution_count": null,
      "outputs": [
        {
          "output_type": "execute_result",
          "data": {
            "text/plain": [
              "tensor([0., 1., 2.])"
            ]
          },
          "metadata": {},
          "execution_count": 8
        }
      ]
    },
    {
      "cell_type": "code",
      "source": [
        "float(points[1])"
      ],
      "metadata": {
        "colab": {
          "base_uri": "https://localhost:8080/"
        },
        "id": "xug8raTm3I0w",
        "outputId": "5b8b89d7-0163-45a7-8c3c-c94c19a40e70"
      },
      "execution_count": null,
      "outputs": [
        {
          "output_type": "execute_result",
          "data": {
            "text/plain": [
              "1.0"
            ]
          },
          "metadata": {},
          "execution_count": 11
        }
      ]
    },
    {
      "cell_type": "code",
      "source": [
        "tensor2d = torch.tensor([[1,2],[2,1],[11,2]])\n",
        "tensor2d"
      ],
      "metadata": {
        "colab": {
          "base_uri": "https://localhost:8080/"
        },
        "id": "LRwVFaJ83OS2",
        "outputId": "11c96390-10a5-4baa-8e8a-ae22bd188171"
      },
      "execution_count": null,
      "outputs": [
        {
          "output_type": "execute_result",
          "data": {
            "text/plain": [
              "tensor([[ 1,  2],\n",
              "        [ 2,  1],\n",
              "        [11,  2]])"
            ]
          },
          "metadata": {},
          "execution_count": 13
        }
      ]
    },
    {
      "cell_type": "code",
      "source": [
        "tensor2d[0]"
      ],
      "metadata": {
        "colab": {
          "base_uri": "https://localhost:8080/"
        },
        "id": "RmUC56Zp3Y13",
        "outputId": "efb00a0f-b876-4d99-d7b5-9b552832ee05"
      },
      "execution_count": null,
      "outputs": [
        {
          "output_type": "execute_result",
          "data": {
            "text/plain": [
              "tensor([1, 2])"
            ]
          },
          "metadata": {},
          "execution_count": 14
        }
      ]
    },
    {
      "cell_type": "code",
      "source": [
        "tensor2d[0][0]"
      ],
      "metadata": {
        "colab": {
          "base_uri": "https://localhost:8080/"
        },
        "id": "RMKLGxgm3cCO",
        "outputId": "0a577283-747a-4b11-ba7b-1cfd83f3149a"
      },
      "execution_count": null,
      "outputs": [
        {
          "output_type": "execute_result",
          "data": {
            "text/plain": [
              "tensor(1)"
            ]
          },
          "metadata": {},
          "execution_count": 15
        }
      ]
    },
    {
      "cell_type": "code",
      "source": [
        "tensor2d.shape"
      ],
      "metadata": {
        "colab": {
          "base_uri": "https://localhost:8080/"
        },
        "id": "yEB0qCWx3g0b",
        "outputId": "eb5133be-cbb3-42dc-9899-639e50c22da0"
      },
      "execution_count": null,
      "outputs": [
        {
          "output_type": "execute_result",
          "data": {
            "text/plain": [
              "torch.Size([3, 2])"
            ]
          },
          "metadata": {},
          "execution_count": 18
        }
      ]
    },
    {
      "cell_type": "code",
      "source": [
        "tensor2d.size()"
      ],
      "metadata": {
        "colab": {
          "base_uri": "https://localhost:8080/"
        },
        "id": "3WXp91rA3lot",
        "outputId": "d52e4912-4f5f-47d4-e203-817b702bfc36"
      },
      "execution_count": null,
      "outputs": [
        {
          "output_type": "execute_result",
          "data": {
            "text/plain": [
              "torch.Size([3, 2])"
            ]
          },
          "metadata": {},
          "execution_count": 20
        }
      ]
    },
    {
      "cell_type": "markdown",
      "source": [
        "## [Named Tensor](https://learning.oreilly.com/library/view/deep-learning-with/9781617295263/Text/03.xhtml#sigil_toc_id_44)"
      ],
      "metadata": {
        "id": "I5ZkuHpQ4MR7"
      }
    },
    {
      "cell_type": "code",
      "source": [
        "img_t = torch.randn(5, 5, 3) # shape [channels, rows, columns]\n",
        "img_t"
      ],
      "metadata": {
        "colab": {
          "base_uri": "https://localhost:8080/"
        },
        "id": "fW5KiFqx3wV6",
        "outputId": "553368a5-4f62-4946-9de0-240c2fd32669"
      },
      "execution_count": null,
      "outputs": [
        {
          "output_type": "execute_result",
          "data": {
            "text/plain": [
              "tensor([[[ 0.3590, -1.4137,  1.9244],\n",
              "         [ 1.1279,  0.6973,  1.0866],\n",
              "         [-0.2379, -1.8023, -0.8779],\n",
              "         [-0.4753,  1.7241,  1.7712],\n",
              "         [-1.3038, -0.3960,  0.9144]],\n",
              "\n",
              "        [[-0.1277,  0.2716, -1.6823],\n",
              "         [ 0.4882,  0.3324, -0.8975],\n",
              "         [ 0.9801,  0.3621,  0.5656],\n",
              "         [-1.9203, -0.6164, -1.3620],\n",
              "         [-0.4149,  0.4501,  0.1924]],\n",
              "\n",
              "        [[-0.8119,  1.5660,  0.6353],\n",
              "         [ 1.3473,  0.9650,  1.4185],\n",
              "         [ 0.9404, -0.0262,  0.9709],\n",
              "         [ 1.4638,  0.6574,  0.7038],\n",
              "         [ 0.0421, -0.4358, -1.9744]],\n",
              "\n",
              "        [[-1.0100, -0.1611,  1.0769],\n",
              "         [-2.2089,  0.1152,  1.1350],\n",
              "         [ 1.6404,  0.1877,  0.2309],\n",
              "         [-1.0912,  0.4156, -1.1200],\n",
              "         [-0.9312,  0.0677, -2.1506]],\n",
              "\n",
              "        [[ 0.5159, -0.5292,  0.2202],\n",
              "         [ 1.3015, -1.6155,  0.6878],\n",
              "         [-1.1045,  1.1702, -0.8868],\n",
              "         [ 1.1209,  0.4272,  0.9944],\n",
              "         [-0.0410,  1.1899, -1.0008]]])"
            ]
          },
          "metadata": {},
          "execution_count": 24
        }
      ]
    },
    {
      "cell_type": "code",
      "source": [
        "weights = torch.tensor([10.0, 10.0, 10.0])\n",
        "weights"
      ],
      "metadata": {
        "colab": {
          "base_uri": "https://localhost:8080/"
        },
        "id": "kZMli-TF6c8u",
        "outputId": "dabb6709-29ca-4959-893e-9fb83e94816f"
      },
      "execution_count": null,
      "outputs": [
        {
          "output_type": "execute_result",
          "data": {
            "text/plain": [
              "tensor([10., 10., 10.])"
            ]
          },
          "metadata": {},
          "execution_count": 35
        }
      ]
    },
    {
      "cell_type": "code",
      "source": [
        "k = img_t * weights\n",
        "k"
      ],
      "metadata": {
        "colab": {
          "base_uri": "https://localhost:8080/"
        },
        "id": "TBLdeYbP6fPL",
        "outputId": "c243efb3-bd25-4de3-f231-b78c6e614fdf"
      },
      "execution_count": null,
      "outputs": [
        {
          "output_type": "execute_result",
          "data": {
            "text/plain": [
              "tensor([[[  3.5904, -14.1368,  19.2438],\n",
              "         [ 11.2792,   6.9731,  10.8659],\n",
              "         [ -2.3787, -18.0232,  -8.7792],\n",
              "         [ -4.7535,  17.2407,  17.7120],\n",
              "         [-13.0379,  -3.9602,   9.1444]],\n",
              "\n",
              "        [[ -1.2774,   2.7158, -16.8226],\n",
              "         [  4.8820,   3.3244,  -8.9749],\n",
              "         [  9.8009,   3.6209,   5.6563],\n",
              "         [-19.2026,  -6.1644, -13.6198],\n",
              "         [ -4.1492,   4.5005,   1.9239]],\n",
              "\n",
              "        [[ -8.1188,  15.6598,   6.3528],\n",
              "         [ 13.4732,   9.6497,  14.1850],\n",
              "         [  9.4040,  -0.2624,   9.7091],\n",
              "         [ 14.6383,   6.5744,   7.0377],\n",
              "         [  0.4215,  -4.3581, -19.7438]],\n",
              "\n",
              "        [[-10.1000,  -1.6113,  10.7688],\n",
              "         [-22.0894,   1.1520,  11.3497],\n",
              "         [ 16.4039,   1.8772,   2.3091],\n",
              "         [-10.9118,   4.1562, -11.1998],\n",
              "         [ -9.3120,   0.6768, -21.5055]],\n",
              "\n",
              "        [[  5.1589,  -5.2919,   2.2015],\n",
              "         [ 13.0152, -16.1550,   6.8775],\n",
              "         [-11.0450,  11.7023,  -8.8677],\n",
              "         [ 11.2087,   4.2715,   9.9438],\n",
              "         [ -0.4102,  11.8987, -10.0082]]])"
            ]
          },
          "metadata": {},
          "execution_count": 28
        }
      ]
    },
    {
      "cell_type": "code",
      "source": [
        "img_t = torch.randn(3,3,3,3) # shape [channels, rows, columns]\n",
        "img_t\n",
        "\n",
        "l =  weights @ img_t\n",
        "l\n"
      ],
      "metadata": {
        "colab": {
          "base_uri": "https://localhost:8080/"
        },
        "id": "hxd2A7z56t_k",
        "outputId": "7f29e09d-e55b-4978-81f5-7b5c878485fe"
      },
      "execution_count": null,
      "outputs": [
        {
          "output_type": "execute_result",
          "data": {
            "text/plain": [
              "tensor([[[-22.7730, -29.8047,  15.9983],\n",
              "         [-36.2726,  -0.3660,  37.5874],\n",
              "         [ -4.0136,  16.6771, -39.4014]],\n",
              "\n",
              "        [[-22.6076,   0.4477,   4.1722],\n",
              "         [-16.9684, -12.1960, -26.4998],\n",
              "         [-25.6591,  -8.4516, -39.3284]],\n",
              "\n",
              "        [[ -6.8226, -12.2566, -24.9011],\n",
              "         [ 11.5152, -29.1154,   9.0611],\n",
              "         [ -8.0792,   2.2579,  -8.5166]]])"
            ]
          },
          "metadata": {},
          "execution_count": 43
        }
      ]
    },
    {
      "cell_type": "code",
      "source": [
        "img_t = torch.randn(3) # shape [channels, rows, columns]\n",
        "\n",
        "m =  weights.dot(img_t)\n",
        "m"
      ],
      "metadata": {
        "colab": {
          "base_uri": "https://localhost:8080/"
        },
        "id": "TVRkSHSl7SgQ",
        "outputId": "b836258a-ccae-4479-b0f9-2d64f4cf023b"
      },
      "execution_count": null,
      "outputs": [
        {
          "output_type": "execute_result",
          "data": {
            "text/plain": [
              "tensor(-28.7676)"
            ]
          },
          "metadata": {},
          "execution_count": 49
        }
      ]
    },
    {
      "cell_type": "code",
      "source": [
        "img_t = torch.randn(3) # shape [channels, rows, columns]\n",
        "\n",
        "m =  img_t.dot(weights)\n",
        "m"
      ],
      "metadata": {
        "colab": {
          "base_uri": "https://localhost:8080/"
        },
        "id": "sWQS3fxU7nvR",
        "outputId": "8305034c-fe04-4ef4-9822-213134bdd094"
      },
      "execution_count": null,
      "outputs": [
        {
          "output_type": "execute_result",
          "data": {
            "text/plain": [
              "tensor(-2.8507)"
            ]
          },
          "metadata": {},
          "execution_count": 48
        }
      ]
    },
    {
      "cell_type": "code",
      "source": [
        "batch_t = torch.randn(2, 3, 5, 5) # shape [batch, channels, rows, columns]\n",
        "batch_t"
      ],
      "metadata": {
        "colab": {
          "base_uri": "https://localhost:8080/"
        },
        "id": "aMMSJPpg7w3d",
        "outputId": "f401dbac-e012-4d88-c529-59db80b089e7"
      },
      "execution_count": null,
      "outputs": [
        {
          "output_type": "execute_result",
          "data": {
            "text/plain": [
              "tensor([[[[ 0.0648, -0.7913, -1.1642, -1.2950,  1.2289],\n",
              "          [-0.0259, -1.6182, -1.5546,  0.5373, -0.9952],\n",
              "          [ 0.0426, -0.8190,  0.2010,  0.6762,  0.9382],\n",
              "          [ 0.7667, -0.5542, -0.1445,  0.0835,  0.0774],\n",
              "          [ 1.5266, -1.8295, -1.0243, -0.7724, -0.2592]],\n",
              "\n",
              "         [[-1.1399,  0.0904,  1.4124, -0.2269,  0.0846],\n",
              "          [ 0.6971,  0.9064,  1.2420,  1.5686,  0.8763],\n",
              "          [ 0.5400,  0.6708, -1.7354, -1.3205,  0.8782],\n",
              "          [-2.2594,  1.0050,  1.1244, -0.0686,  1.2173],\n",
              "          [-1.6841, -0.2568,  0.4688,  0.7828,  0.5287]],\n",
              "\n",
              "         [[ 2.5700,  0.7983, -0.0091, -0.3377, -2.0504],\n",
              "          [-0.1031, -3.6010, -0.4290, -0.6380, -0.5077],\n",
              "          [ 0.1460,  0.4123,  1.6898,  0.5845,  1.4718],\n",
              "          [-0.3406, -0.3153,  1.1893,  0.4110,  1.0527],\n",
              "          [-0.1207,  0.2690, -0.7351, -1.2827,  0.8784]]],\n",
              "\n",
              "\n",
              "        [[[ 0.8556,  0.6574, -1.6834,  1.1801, -0.1582],\n",
              "          [ 0.8672,  0.1691,  0.6584, -0.6237,  0.6045],\n",
              "          [-0.0229,  1.4777, -0.1401, -0.5468,  0.7876],\n",
              "          [-0.6018, -1.2283, -0.1992, -0.5762, -0.3942],\n",
              "          [ 0.9786, -0.3613, -0.1898,  2.3352, -1.4715]],\n",
              "\n",
              "         [[-0.0979,  1.5008,  0.0242,  0.5004, -0.2899],\n",
              "          [-0.3401,  2.1869,  0.2284, -0.7383,  1.5451],\n",
              "          [ 0.4579,  0.8114,  0.6676, -0.7448,  0.8963],\n",
              "          [-0.4644,  1.2585, -1.1560, -0.5194,  0.6581],\n",
              "          [-0.9438,  0.7198, -1.3850,  1.1656,  0.1641]],\n",
              "\n",
              "         [[ 0.4175,  0.8601,  0.4658, -0.1461, -0.5438],\n",
              "          [ 0.2000,  0.7158,  1.3287,  2.0575,  0.3044],\n",
              "          [ 0.6046, -0.5804,  0.0918,  1.7443,  0.5205],\n",
              "          [ 1.3989, -1.0757, -0.6304, -2.2720, -0.8695],\n",
              "          [ 0.5301,  0.3126, -2.6171,  0.5449,  0.6280]]]])"
            ]
          },
          "metadata": {},
          "execution_count": 50
        }
      ]
    },
    {
      "cell_type": "code",
      "source": [
        "\n",
        "img_t=torch.rand(3,4,5)  # shape [channels, rows, columns]\n",
        "img_t"
      ],
      "metadata": {
        "colab": {
          "base_uri": "https://localhost:8080/"
        },
        "id": "CTdBNSTH73u6",
        "outputId": "fc1d48a3-0487-4e92-eaaa-0f18e13ff189"
      },
      "execution_count": null,
      "outputs": [
        {
          "output_type": "execute_result",
          "data": {
            "text/plain": [
              "tensor([[[0.9325, 0.1835, 0.0503, 0.0925, 0.8571],\n",
              "         [0.7469, 0.1788, 0.5682, 0.3663, 0.7488],\n",
              "         [0.5710, 0.6492, 0.6789, 0.1712, 0.6959],\n",
              "         [0.1010, 0.8735, 0.5975, 0.5453, 0.7591]],\n",
              "\n",
              "        [[0.3214, 0.1938, 0.2672, 0.9427, 0.9612],\n",
              "         [0.3644, 0.2987, 0.6293, 0.2117, 0.3122],\n",
              "         [0.2349, 0.4039, 0.2715, 0.4341, 0.7117],\n",
              "         [0.9742, 0.3800, 0.4291, 0.8201, 0.3012]],\n",
              "\n",
              "        [[0.1340, 0.2059, 0.8479, 0.0165, 0.4571],\n",
              "         [0.4142, 0.3529, 0.5113, 0.0488, 0.9273],\n",
              "         [0.0534, 0.9209, 0.5177, 0.3158, 0.2381],\n",
              "         [0.8691, 0.9073, 0.0205, 0.6333, 0.6700]]])"
            ]
          },
          "metadata": {},
          "execution_count": 53
        }
      ]
    },
    {
      "cell_type": "code",
      "source": [
        "test_mean = torch.tensor([[[10.0, 1.0,1.0,1.0,1.0],\n",
        "                    [2.0, 2.0, 2.0, 2.0,2.0],\n",
        "                    [3.0,3.0, 3.0,3.0, 3.0],\n",
        "                    [4.0,4.0,4.0,4.0, 4.0]],\n",
        "\n",
        "                    [[1.0, 1.0,1.0,1.0,1.0],\n",
        "                    [2.0, 2.0, 2.0, 2.0,2.0],\n",
        "                    [3.0,3.0, 3.0,3.0, 3.0],\n",
        "                    [4.0,4.0,4.0,4.0, 4.0]],\n",
        "\n",
        "                   [[1.0, 1.0,1.0,1.0,1.0],\n",
        "                    [2.0, 2.0, 2.0, 2.0,2.0],\n",
        "                    [3.0,3.0, 3.0,3.0, 3.0],\n",
        "                    [4.0,4.0,4.0,4.0, 4.0]],\n",
        "\n",
        "\n",
        "                   [[1.0, 1.0,1.0,1.0,1.0],\n",
        "                    [2.0, 2.0, 2.0, 2.0,2.0],\n",
        "                    [3.0,3.0, 3.0,3.0, 3.0],\n",
        "                    [4.0,4.0,4.0,4.0, 4.0]]]\n",
        "\n",
        "                   )\n",
        "\n",
        "test_mean"
      ],
      "metadata": {
        "colab": {
          "base_uri": "https://localhost:8080/"
        },
        "id": "zrNVnrY48YrQ",
        "outputId": "0f747829-ec4c-4f2a-9d07-b7a2434c0625"
      },
      "execution_count": null,
      "outputs": [
        {
          "output_type": "execute_result",
          "data": {
            "text/plain": [
              "tensor([[[10.,  1.,  1.,  1.,  1.],\n",
              "         [ 2.,  2.,  2.,  2.,  2.],\n",
              "         [ 3.,  3.,  3.,  3.,  3.],\n",
              "         [ 4.,  4.,  4.,  4.,  4.]],\n",
              "\n",
              "        [[ 1.,  1.,  1.,  1.,  1.],\n",
              "         [ 2.,  2.,  2.,  2.,  2.],\n",
              "         [ 3.,  3.,  3.,  3.,  3.],\n",
              "         [ 4.,  4.,  4.,  4.,  4.]],\n",
              "\n",
              "        [[ 1.,  1.,  1.,  1.,  1.],\n",
              "         [ 2.,  2.,  2.,  2.,  2.],\n",
              "         [ 3.,  3.,  3.,  3.,  3.],\n",
              "         [ 4.,  4.,  4.,  4.,  4.]],\n",
              "\n",
              "        [[ 1.,  1.,  1.,  1.,  1.],\n",
              "         [ 2.,  2.,  2.,  2.,  2.],\n",
              "         [ 3.,  3.,  3.,  3.,  3.],\n",
              "         [ 4.,  4.,  4.,  4.,  4.]]])"
            ]
          },
          "metadata": {},
          "execution_count": 64
        }
      ]
    },
    {
      "cell_type": "code",
      "source": [
        "test_mean.shape"
      ],
      "metadata": {
        "colab": {
          "base_uri": "https://localhost:8080/"
        },
        "id": "J8KvF-Sw9tvl",
        "outputId": "7f23e354-351b-4c15-bd44-1f9cab47d4b5"
      },
      "execution_count": null,
      "outputs": [
        {
          "output_type": "execute_result",
          "data": {
            "text/plain": [
              "torch.Size([4, 4, 5])"
            ]
          },
          "metadata": {},
          "execution_count": 68
        }
      ]
    },
    {
      "cell_type": "code",
      "source": [
        "img_gray_naive = test_mean.mean(-1)\n",
        "img_gray_naive"
      ],
      "metadata": {
        "colab": {
          "base_uri": "https://localhost:8080/"
        },
        "id": "JKUTIpTG8OLN",
        "outputId": "81b26cc5-2137-4ec6-c1db-88d2062f228a"
      },
      "execution_count": null,
      "outputs": [
        {
          "output_type": "execute_result",
          "data": {
            "text/plain": [
              "tensor([[2.8000, 2.0000, 3.0000, 4.0000],\n",
              "        [1.0000, 2.0000, 3.0000, 4.0000],\n",
              "        [1.0000, 2.0000, 3.0000, 4.0000],\n",
              "        [1.0000, 2.0000, 3.0000, 4.0000]])"
            ]
          },
          "metadata": {},
          "execution_count": 79
        }
      ]
    },
    {
      "cell_type": "code",
      "source": [
        "img_gray_naive = test_mean.mean(-2)\n",
        "img_gray_naive"
      ],
      "metadata": {
        "colab": {
          "base_uri": "https://localhost:8080/"
        },
        "id": "pq9Dhx8x94Td",
        "outputId": "f65663f1-b625-4ae7-c4a6-1ebf3c842b7a"
      },
      "execution_count": null,
      "outputs": [
        {
          "output_type": "execute_result",
          "data": {
            "text/plain": [
              "tensor([[4.7500, 2.5000, 2.5000, 2.5000, 2.5000],\n",
              "        [2.5000, 2.5000, 2.5000, 2.5000, 2.5000],\n",
              "        [2.5000, 2.5000, 2.5000, 2.5000, 2.5000],\n",
              "        [2.5000, 2.5000, 2.5000, 2.5000, 2.5000]])"
            ]
          },
          "metadata": {},
          "execution_count": 80
        }
      ]
    },
    {
      "cell_type": "code",
      "source": [
        "img_gray_naive = test_mean.mean(-3)\n",
        "img_gray_naive"
      ],
      "metadata": {
        "colab": {
          "base_uri": "https://localhost:8080/"
        },
        "id": "KoxAlRfD-Q8d",
        "outputId": "9d3e9538-728f-44b9-86f8-ca969b89a0ce"
      },
      "execution_count": null,
      "outputs": [
        {
          "output_type": "execute_result",
          "data": {
            "text/plain": [
              "tensor([[3.2500, 1.0000, 1.0000, 1.0000, 1.0000],\n",
              "        [2.0000, 2.0000, 2.0000, 2.0000, 2.0000],\n",
              "        [3.0000, 3.0000, 3.0000, 3.0000, 3.0000],\n",
              "        [4.0000, 4.0000, 4.0000, 4.0000, 4.0000]])"
            ]
          },
          "metadata": {},
          "execution_count": 81
        }
      ]
    },
    {
      "cell_type": "markdown",
      "source": [
        "## Managing a tensor’s dtype attribute"
      ],
      "metadata": {
        "id": "dOzicbTynS-t"
      }
    },
    {
      "cell_type": "code",
      "source": [
        "import torch\n",
        "double_points = torch.ones(10, 2, dtype=torch.double)\n",
        "double_points"
      ],
      "metadata": {
        "colab": {
          "base_uri": "https://localhost:8080/"
        },
        "id": "bMGiM0JLnXQX",
        "outputId": "987de792-8f89-4026-89e4-bab0dd07d0f6"
      },
      "execution_count": null,
      "outputs": [
        {
          "output_type": "execute_result",
          "data": {
            "text/plain": [
              "tensor([[1., 1.],\n",
              "        [1., 1.],\n",
              "        [1., 1.],\n",
              "        [1., 1.],\n",
              "        [1., 1.],\n",
              "        [1., 1.],\n",
              "        [1., 1.],\n",
              "        [1., 1.],\n",
              "        [1., 1.],\n",
              "        [1., 1.]], dtype=torch.float64)"
            ]
          },
          "metadata": {},
          "execution_count": 2
        }
      ]
    },
    {
      "cell_type": "code",
      "source": [
        "short_points = torch.tensor([[1, 2], [3, 4]], dtype=torch.short)\n",
        "short_points"
      ],
      "metadata": {
        "colab": {
          "base_uri": "https://localhost:8080/"
        },
        "id": "1sZhPlgyn74R",
        "outputId": "d1538771-f4ec-48d3-e686-b4c8996b3597"
      },
      "execution_count": null,
      "outputs": [
        {
          "output_type": "execute_result",
          "data": {
            "text/plain": [
              "tensor([[1, 2],\n",
              "        [3, 4]], dtype=torch.int16)"
            ]
          },
          "metadata": {},
          "execution_count": 3
        }
      ]
    },
    {
      "cell_type": "code",
      "source": [
        "short_points.dtype"
      ],
      "metadata": {
        "colab": {
          "base_uri": "https://localhost:8080/"
        },
        "id": "DOk9-40an8Ux",
        "outputId": "a578dfb8-a185-467c-cc69-2ecb8bb74ce6"
      },
      "execution_count": null,
      "outputs": [
        {
          "output_type": "execute_result",
          "data": {
            "text/plain": [
              "torch.int16"
            ]
          },
          "metadata": {},
          "execution_count": 4
        }
      ]
    },
    {
      "cell_type": "code",
      "source": [
        "double_points = torch.zeros(10, 2).double()\n",
        "double_points"
      ],
      "metadata": {
        "colab": {
          "base_uri": "https://localhost:8080/"
        },
        "id": "HNcyPcR1oJVN",
        "outputId": "be384f1b-530f-4c2c-cc91-6f4bbf7e1915"
      },
      "execution_count": null,
      "outputs": [
        {
          "output_type": "execute_result",
          "data": {
            "text/plain": [
              "tensor([[0., 0.],\n",
              "        [0., 0.],\n",
              "        [0., 0.],\n",
              "        [0., 0.],\n",
              "        [0., 0.],\n",
              "        [0., 0.],\n",
              "        [0., 0.],\n",
              "        [0., 0.],\n",
              "        [0., 0.],\n",
              "        [0., 0.]], dtype=torch.float64)"
            ]
          },
          "metadata": {},
          "execution_count": 5
        }
      ]
    },
    {
      "cell_type": "code",
      "source": [
        "short_points = torch.ones(10, 2).short()\n",
        "short_points"
      ],
      "metadata": {
        "colab": {
          "base_uri": "https://localhost:8080/"
        },
        "id": "FjKIaMHJoM3y",
        "outputId": "0adaa78b-fcf8-429e-8a3b-2ab01dd12aa7"
      },
      "execution_count": null,
      "outputs": [
        {
          "output_type": "execute_result",
          "data": {
            "text/plain": [
              "tensor([[1, 1],\n",
              "        [1, 1],\n",
              "        [1, 1],\n",
              "        [1, 1],\n",
              "        [1, 1],\n",
              "        [1, 1],\n",
              "        [1, 1],\n",
              "        [1, 1],\n",
              "        [1, 1],\n",
              "        [1, 1]], dtype=torch.int16)"
            ]
          },
          "metadata": {},
          "execution_count": 6
        }
      ]
    },
    {
      "cell_type": "code",
      "source": [
        "double_points = torch.zeros(10, 2).to(torch.double)\n",
        "short_points = torch.ones(10, 2).to(dtype=torch.short)"
      ],
      "metadata": {
        "id": "tOyRqzD9oUxR"
      },
      "execution_count": null,
      "outputs": []
    },
    {
      "cell_type": "code",
      "source": [
        "double_points"
      ],
      "metadata": {
        "colab": {
          "base_uri": "https://localhost:8080/"
        },
        "id": "By5HOY3goWVU",
        "outputId": "2192375b-5fa1-4b51-8744-334fcef08c8e"
      },
      "execution_count": null,
      "outputs": [
        {
          "output_type": "execute_result",
          "data": {
            "text/plain": [
              "tensor([[0., 0.],\n",
              "        [0., 0.],\n",
              "        [0., 0.],\n",
              "        [0., 0.],\n",
              "        [0., 0.],\n",
              "        [0., 0.],\n",
              "        [0., 0.],\n",
              "        [0., 0.],\n",
              "        [0., 0.],\n",
              "        [0., 0.]], dtype=torch.float64)"
            ]
          },
          "metadata": {},
          "execution_count": 8
        }
      ]
    },
    {
      "cell_type": "code",
      "source": [
        "short_points"
      ],
      "metadata": {
        "colab": {
          "base_uri": "https://localhost:8080/"
        },
        "id": "VsuREJ6voXbJ",
        "outputId": "e7703cc7-7895-4978-b9ca-5ceb25e662a8"
      },
      "execution_count": null,
      "outputs": [
        {
          "output_type": "execute_result",
          "data": {
            "text/plain": [
              "tensor([[1, 1],\n",
              "        [1, 1],\n",
              "        [1, 1],\n",
              "        [1, 1],\n",
              "        [1, 1],\n",
              "        [1, 1],\n",
              "        [1, 1],\n",
              "        [1, 1],\n",
              "        [1, 1],\n",
              "        [1, 1]], dtype=torch.int16)"
            ]
          },
          "metadata": {},
          "execution_count": 9
        }
      ]
    },
    {
      "cell_type": "markdown",
      "source": [
        "## Transpose High Dimension"
      ],
      "metadata": {
        "id": "x-GD__wZpM3I"
      }
    },
    {
      "cell_type": "code",
      "source": [
        "some_t = torch.ones(3, 4, 5)\n",
        "transpose_t = some_t.transpose(0, 2)\n",
        "some_t.shape"
      ],
      "metadata": {
        "colab": {
          "base_uri": "https://localhost:8080/"
        },
        "id": "oegoX6pppVDd",
        "outputId": "b98f71e4-15df-4ed6-d153-8676cc6f3cd4"
      },
      "execution_count": null,
      "outputs": [
        {
          "output_type": "execute_result",
          "data": {
            "text/plain": [
              "torch.Size([3, 4, 5])"
            ]
          },
          "metadata": {},
          "execution_count": 10
        }
      ]
    },
    {
      "cell_type": "code",
      "source": [
        "some_t"
      ],
      "metadata": {
        "colab": {
          "base_uri": "https://localhost:8080/"
        },
        "id": "-OeOWkfIpXhW",
        "outputId": "1145c760-103a-41b5-9e72-ca5cb45be73c"
      },
      "execution_count": null,
      "outputs": [
        {
          "output_type": "execute_result",
          "data": {
            "text/plain": [
              "tensor([[[1., 1., 1., 1., 1.],\n",
              "         [1., 1., 1., 1., 1.],\n",
              "         [1., 1., 1., 1., 1.],\n",
              "         [1., 1., 1., 1., 1.]],\n",
              "\n",
              "        [[1., 1., 1., 1., 1.],\n",
              "         [1., 1., 1., 1., 1.],\n",
              "         [1., 1., 1., 1., 1.],\n",
              "         [1., 1., 1., 1., 1.]],\n",
              "\n",
              "        [[1., 1., 1., 1., 1.],\n",
              "         [1., 1., 1., 1., 1.],\n",
              "         [1., 1., 1., 1., 1.],\n",
              "         [1., 1., 1., 1., 1.]]])"
            ]
          },
          "metadata": {},
          "execution_count": 11
        }
      ]
    },
    {
      "cell_type": "code",
      "source": [
        "transpose_t = some_t.transpose(0, 2)\n",
        "transpose_t"
      ],
      "metadata": {
        "colab": {
          "base_uri": "https://localhost:8080/"
        },
        "id": "h7v901thpbgX",
        "outputId": "37c0b86f-7af9-4013-9b88-68bbf39fd74d"
      },
      "execution_count": null,
      "outputs": [
        {
          "output_type": "execute_result",
          "data": {
            "text/plain": [
              "tensor([[[1., 1., 1.],\n",
              "         [1., 1., 1.],\n",
              "         [1., 1., 1.],\n",
              "         [1., 1., 1.]],\n",
              "\n",
              "        [[1., 1., 1.],\n",
              "         [1., 1., 1.],\n",
              "         [1., 1., 1.],\n",
              "         [1., 1., 1.]],\n",
              "\n",
              "        [[1., 1., 1.],\n",
              "         [1., 1., 1.],\n",
              "         [1., 1., 1.],\n",
              "         [1., 1., 1.]],\n",
              "\n",
              "        [[1., 1., 1.],\n",
              "         [1., 1., 1.],\n",
              "         [1., 1., 1.],\n",
              "         [1., 1., 1.]],\n",
              "\n",
              "        [[1., 1., 1.],\n",
              "         [1., 1., 1.],\n",
              "         [1., 1., 1.],\n",
              "         [1., 1., 1.]]])"
            ]
          },
          "metadata": {},
          "execution_count": 12
        }
      ]
    },
    {
      "cell_type": "code",
      "source": [
        "transpose_t.shape"
      ],
      "metadata": {
        "colab": {
          "base_uri": "https://localhost:8080/"
        },
        "id": "O-CEgdptpoJa",
        "outputId": "ee115029-8639-4896-a27d-dd4ed96ffcb0"
      },
      "execution_count": null,
      "outputs": [
        {
          "output_type": "execute_result",
          "data": {
            "text/plain": [
              "torch.Size([5, 4, 3])"
            ]
          },
          "metadata": {},
          "execution_count": 13
        }
      ]
    },
    {
      "cell_type": "markdown",
      "source": [
        "## Managing a tensor’s device attribute"
      ],
      "metadata": {
        "id": "AZvKSe1xp1gy"
      }
    },
    {
      "cell_type": "code",
      "source": [
        "points_gpu = torch.tensor([[4.0, 1.0], [5.0, 3.0], [2.0, 1.0]], device='cpu')\n",
        "points_gpu"
      ],
      "metadata": {
        "colab": {
          "base_uri": "https://localhost:8080/"
        },
        "id": "4qKUayFnp5Z7",
        "outputId": "9c08d4b3-6c26-4459-e10b-84bdd432b45a"
      },
      "execution_count": null,
      "outputs": [
        {
          "output_type": "execute_result",
          "data": {
            "text/plain": [
              "tensor([[4., 1.],\n",
              "        [5., 3.],\n",
              "        [2., 1.]])"
            ]
          },
          "metadata": {},
          "execution_count": 15
        }
      ]
    },
    {
      "cell_type": "markdown",
      "source": [
        "## NumPy interoperability"
      ],
      "metadata": {
        "id": "CJsODUI7qF3y"
      }
    },
    {
      "cell_type": "code",
      "source": [
        "points = torch.ones(3, 4)\n",
        "points_np = points.numpy()\n",
        "points_np"
      ],
      "metadata": {
        "colab": {
          "base_uri": "https://localhost:8080/"
        },
        "id": "malwcXPZqJW7",
        "outputId": "a3c19982-96c1-4798-e9e2-7ac884f61920"
      },
      "execution_count": null,
      "outputs": [
        {
          "output_type": "execute_result",
          "data": {
            "text/plain": [
              "array([[1., 1., 1., 1.],\n",
              "       [1., 1., 1., 1.],\n",
              "       [1., 1., 1., 1.]], dtype=float32)"
            ]
          },
          "metadata": {},
          "execution_count": 16
        }
      ]
    },
    {
      "cell_type": "code",
      "source": [
        "points = torch.from_numpy(points_np)\n",
        "points"
      ],
      "metadata": {
        "colab": {
          "base_uri": "https://localhost:8080/"
        },
        "id": "N8XjgW8-qMxr",
        "outputId": "ed6ac455-f121-4c8f-d274-02fa7545a0de"
      },
      "execution_count": null,
      "outputs": [
        {
          "output_type": "execute_result",
          "data": {
            "text/plain": [
              "tensor([[1., 1., 1., 1.],\n",
              "        [1., 1., 1., 1.],\n",
              "        [1., 1., 1., 1.]])"
            ]
          },
          "metadata": {},
          "execution_count": 17
        }
      ]
    },
    {
      "cell_type": "markdown",
      "source": [
        "## Serializing tensors"
      ],
      "metadata": {
        "id": "K_bt9LskqSaA"
      }
    },
    {
      "cell_type": "code",
      "source": [
        "torch.save(points, '/content/sample_data/ourpoints.t')"
      ],
      "metadata": {
        "id": "RmZDhBRrqUZB"
      },
      "execution_count": null,
      "outputs": []
    },
    {
      "cell_type": "code",
      "source": [
        "with open('/content/sample_data/ourpoints.t','wb') as f:\n",
        "   torch.save(points, f)"
      ],
      "metadata": {
        "id": "4yX7RvSmqfML"
      },
      "execution_count": null,
      "outputs": []
    },
    {
      "cell_type": "code",
      "source": [
        "points = torch.load('/content/sample_data/ourpoints.t')\n",
        "points"
      ],
      "metadata": {
        "colab": {
          "base_uri": "https://localhost:8080/"
        },
        "id": "WavuiVoTquJk",
        "outputId": "3ee6d4cb-6f7c-4931-af25-ef7b44febc06"
      },
      "execution_count": null,
      "outputs": [
        {
          "output_type": "execute_result",
          "data": {
            "text/plain": [
              "tensor([[1., 1., 1., 1.],\n",
              "        [1., 1., 1., 1.],\n",
              "        [1., 1., 1., 1.]])"
            ]
          },
          "metadata": {},
          "execution_count": 21
        }
      ]
    }
  ]
}